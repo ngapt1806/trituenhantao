{
  "nbformat": 4,
  "nbformat_minor": 0,
  "metadata": {
    "colab": {
      "provenance": [],
      "gpuType": "T4"
    },
    "kernelspec": {
      "name": "python3",
      "display_name": "Python 3"
    },
    "language_info": {
      "name": "python"
    },
    "accelerator": "GPU"
  },
  "cells": [
    {
      "cell_type": "code",
      "execution_count": null,
      "metadata": {
        "id": "Gh42DHSU1f2Q",
        "colab": {
          "base_uri": "https://localhost:8080/"
        },
        "outputId": "4726ec5d-699f-4616-b581-c58ba9643ea8"
      },
      "outputs": [
        {
          "output_type": "stream",
          "name": "stdout",
          "text": [
            "Error: File not found at /content/data.zip. Please upload the file.\n"
          ]
        }
      ],
      "source": [
        "import zipfile\n",
        "import os\n",
        "\n",
        "zip_path = \"/content/data.zip\"\n",
        "extract_path = \"/content/data\"\n",
        "\n",
        "# Ensure the zip file exists before attempting to open it\n",
        "if not os.path.exists(zip_path):\n",
        "    print(f\"Error: File not found at {zip_path}. Please upload the file.\")\n",
        "else:\n",
        "    with zipfile.ZipFile(zip_path, 'r') as zip_ref:\n",
        "        zip_ref.extractall(extract_path)\n",
        "\n",
        "    print(\"✅ Đã giải nén thành công vào thư mục:\", extract_path)"
      ]
    },
    {
      "cell_type": "code",
      "source": [],
      "metadata": {
        "id": "BSIqja0Cb166"
      },
      "execution_count": null,
      "outputs": []
    },
    {
      "cell_type": "code",
      "source": [
        "import shutil\n",
        "import random\n",
        "\n",
        "def split_train_val(data_dir='/content/data', val_ratio=0.15, seed=42):\n",
        "    random.seed(seed)\n",
        "    train_dir = os.path.join(data_dir, 'train')\n",
        "    val_dir = os.path.join(data_dir, 'val')\n",
        "\n",
        "    if not os.path.exists(val_dir):\n",
        "        os.makedirs(val_dir)\n",
        "\n",
        "    for class_name in os.listdir(train_dir):\n",
        "        class_train_path = os.path.join(train_dir, class_name)\n",
        "        class_val_path = os.path.join(val_dir, class_name)\n",
        "\n",
        "        if not os.path.exists(class_val_path):\n",
        "            os.makedirs(class_val_path)\n",
        "\n",
        "        images = os.listdir(class_train_path)\n",
        "        val_count = int(len(images) * val_ratio)\n",
        "        val_images = random.sample(images, val_count)\n",
        "\n",
        "        for img in val_images:\n",
        "            src = os.path.join(class_train_path, img)\n",
        "            dst = os.path.join(class_val_path, img)\n",
        "            shutil.move(src, dst)\n",
        "\n",
        "    print(\"✅ Đã chia dữ liệu thành train và val.\")\n",
        "\n",
        "split_train_val('/content/data', val_ratio=0.15)\n"
      ],
      "metadata": {
        "colab": {
          "base_uri": "https://localhost:8080/"
        },
        "id": "VugVqhbC45ws",
        "outputId": "0ac23194-834b-4cb3-83c7-0beae2b93784"
      },
      "execution_count": null,
      "outputs": [
        {
          "output_type": "stream",
          "name": "stdout",
          "text": [
            "✅ Đã chia dữ liệu thành train và val.\n"
          ]
        }
      ]
    },
    {
      "cell_type": "code",
      "source": [
        "from torchvision import datasets, transforms\n",
        "from torch.utils.data import DataLoader\n",
        "\n",
        "transform = transforms.Compose([\n",
        "    transforms.Resize((224, 224)),\n",
        "    transforms.Grayscale(num_output_channels=3),\n",
        "    transforms.ToTensor(),\n",
        "    transforms.Normalize([0.5], [0.5])\n",
        "])\n",
        "\n",
        "data_path = '/content/data'\n",
        "\n",
        "train_data = datasets.ImageFolder(os.path.join(data_path, 'train'), transform=transform)\n",
        "val_data = datasets.ImageFolder(os.path.join(data_path, 'val'), transform=transform)\n",
        "test_data = datasets.ImageFolder(os.path.join(data_path, 'test'), transform=transform)\n",
        "\n",
        "train_loader = DataLoader(train_data, batch_size=64, shuffle=True)\n",
        "val_loader = DataLoader(val_data, batch_size=64, shuffle=False)\n",
        "test_loader = DataLoader(test_data, batch_size=64, shuffle=False)\n",
        "\n",
        "print(f\"Số lượng ảnh train: {len(train_data)}\")\n",
        "print(f\"Số lượng ảnh val: {len(val_data)}\")\n",
        "print(f\"Số lượng ảnh test: {len(test_data)}\")\n"
      ],
      "metadata": {
        "colab": {
          "base_uri": "https://localhost:8080/"
        },
        "id": "vJcNgREo5Edq",
        "outputId": "c548d9a9-8f77-4ebc-ca5d-af90f94fde40"
      },
      "execution_count": null,
      "outputs": [
        {
          "output_type": "stream",
          "name": "stdout",
          "text": [
            "Số lượng ảnh train: 24406\n",
            "Số lượng ảnh val: 4303\n",
            "Số lượng ảnh test: 7178\n"
          ]
        }
      ]
    },
    {
      "cell_type": "code",
      "source": [],
      "metadata": {
        "id": "WtzLEDl_A8mw"
      },
      "execution_count": null,
      "outputs": []
    }
  ]
}